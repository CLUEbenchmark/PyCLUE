{
 "cells": [
  {
   "cell_type": "markdown",
   "metadata": {},
   "source": [
    "# 多分类任务"
   ]
  },
  {
   "cell_type": "code",
   "execution_count": null,
   "metadata": {},
   "outputs": [],
   "source": [
    "from pyclue.tf1.tasks.classification.multi_class.predict import Predictor"
   ]
  },
  {
   "cell_type": "code",
   "execution_count": null,
   "metadata": {},
   "outputs": [],
   "source": [
    "# 加载保存好的模型路径（train.ipynb中最后打印出的model_file_dict中的'pb_model_file'地址）\n",
    "pb_model_file = ''\n",
    "# 初始化预测器\n",
    "predictor = Predictor(\n",
    "    model_file=pb_model_file)"
   ]
  },
  {
   "cell_type": "markdown",
   "metadata": {},
   "source": [
    "## 单条预测"
   ]
  },
  {
   "cell_type": "code",
   "execution_count": null,
   "metadata": {},
   "outputs": [],
   "source": [
    "# 单条预测文本\n",
    "single_text = 'text_a'\n",
    "single_result = predictor.predict(single_text)\n",
    "print(single_result)"
   ]
  },
  {
   "cell_type": "markdown",
   "metadata": {},
   "source": [
    "## 批预测"
   ]
  },
  {
   "cell_type": "code",
   "execution_count": null,
   "metadata": {},
   "outputs": [],
   "source": [
    "# 多条预测文本\n",
    "batch_texts = ['text_a_1', 'text_a_2']\n",
    "batch_results = predictor.predict(batch_texts)\n",
    "print(batch_results)"
   ]
  },
  {
   "cell_type": "markdown",
   "metadata": {},
   "source": [
    "## 文件预测（无标签）"
   ]
  },
  {
   "cell_type": "code",
   "execution_count": null,
   "metadata": {},
   "outputs": [],
   "source": [
    "# 测试数据路径（无标签文件）\n",
    "# 若为句子对（task_type='pairs'），格式为：pseudo_label\\ttext_a\\ttext_b\\n 或 text_a\\ttext_b\\n\n",
    "# 若为单句子（task_type='single'），格式为：pseudo_label\\ttext_a\\n 或 text_a\\n\n",
    "texts_file = ''\n",
    "file_results = predictor.predict_from_file(texts_file)"
   ]
  },
  {
   "cell_type": "markdown",
   "metadata": {},
   "source": [
    "## 文件预测（有标签：质检）"
   ]
  },
  {
   "cell_type": "code",
   "execution_count": null,
   "metadata": {},
   "outputs": [],
   "source": [
    "# 测试数据路径（有标签文件）\n",
    "# 若为句子对（task_type='pairs'），格式为：true_label\\ttext_a\\ttext_b\\n\n",
    "# 若为单句子（task_type='single'），格式为：true_label\\ttext_a\\n\n",
    "texts_file = ''\n",
    "# 质检结果保存路径\n",
    "save_path = ''\n",
    "file_results = predictor.quality_inspection(texts_file, save_path)"
   ]
  }
 ],
 "metadata": {
  "kernelspec": {
   "display_name": "Python 3",
   "language": "python",
   "name": "python3"
  },
  "language_info": {
   "codemirror_mode": {
    "name": "ipython",
    "version": 3
   },
   "file_extension": ".py",
   "mimetype": "text/x-python",
   "name": "python",
   "nbconvert_exporter": "python",
   "pygments_lexer": "ipython3",
   "version": "3.6.8"
  }
 },
 "nbformat": 4,
 "nbformat_minor": 4
}
