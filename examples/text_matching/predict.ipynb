{
 "cells": [
  {
   "cell_type": "markdown",
   "metadata": {},
   "source": [
    "# 文本匹配任务"
   ]
  },
  {
   "cell_type": "code",
   "execution_count": null,
   "metadata": {},
   "outputs": [],
   "source": [
    "from pyclue.tf1.tasks.text_matching.siamese.predict import Predictor"
   ]
  },
  {
   "cell_type": "code",
   "execution_count": null,
   "metadata": {},
   "outputs": [],
   "source": [
    "# 加载保存好的模型路径（train.ipynb中最后打印出的model_file_dict中的'pb_model_file'地址）\n",
    "pb_model_file = ''\n",
    "# 初始化预测器\n",
    "predictor = Predictor(\n",
    "    model_file=pb_model_file)"
   ]
  },
  {
   "cell_type": "markdown",
   "metadata": {},
   "source": [
    "## 匹配策略"
   ]
  },
  {
   "cell_type": "code",
   "execution_count": null,
   "metadata": {},
   "outputs": [],
   "source": [
    "# 返回top_k个最相近的句子\n",
    "top_k = 3\n",
    "# 检索策略，可选None，weighted_max，count_max，reduce_max\n",
    "# 当为None，返回所有top_k句子\n",
    "# 当为weighted_max，返回top_k个句子加权过后，最相近的意图所对应的相似度最高的句子\n",
    "# 当为count_max时，返回top_k个句子计数过后，最相近的意图所对应的相似度最高的句子\n",
    "# 当为reduce_max时，返回top_1所对应的结果\n",
    "strategy = 'weighted_max'"
   ]
  },
  {
   "cell_type": "markdown",
   "metadata": {},
   "source": [
    "## 单条预测"
   ]
  },
  {
   "cell_type": "code",
   "execution_count": null,
   "metadata": {},
   "outputs": [],
   "source": [
    "# 单条预测文本\n",
    "single_text = 'text_a'\n",
    "single_result = predictor.predict(single_text, top_k=top_k, strategy=strategy)\n",
    "print(single_result)"
   ]
  },
  {
   "cell_type": "markdown",
   "metadata": {},
   "source": [
    "## 批预测"
   ]
  },
  {
   "cell_type": "code",
   "execution_count": null,
   "metadata": {},
   "outputs": [],
   "source": [
    "# 多条预测文本\n",
    "batch_texts = ['text_a_1', 'text_a_2']\n",
    "batch_results = predictor.predict(batch_texts, top_k=top_k, strategy=strategy)\n",
    "print(batch_results)"
   ]
  },
  {
   "cell_type": "markdown",
   "metadata": {},
   "source": [
    "## 文件预测（无标签）"
   ]
  },
  {
   "cell_type": "code",
   "execution_count": null,
   "metadata": {},
   "outputs": [],
   "source": [
    "# 测试数据路径（无标签文件）\n",
    "# 格式为：pseudo_label\\ttext_a\\n\n",
    "texts_file = ''\n",
    "file_results = predictor.predict_from_file(texts_file, top_k=top_k, strategy=strategy)"
   ]
  },
  {
   "cell_type": "markdown",
   "metadata": {},
   "source": [
    "## 文件预测（有标签：质检）"
   ]
  },
  {
   "cell_type": "code",
   "execution_count": null,
   "metadata": {},
   "outputs": [],
   "source": [
    "# 测试数据路径（有标签文件）\n",
    "# 格式为：true_label\\ttext_a\\n\n",
    "texts_file = ''\n",
    "# 质检结果保存路径\n",
    "save_path = ''\n",
    "# 相似度阈值（cosine相似度）\n",
    "threshold = 0.75\n",
    "file_results = predictor.quality_inspection(texts_file, top_k=top_k, strategy=strategy, \n",
    "                                            threshold=threshold, save_path=save_path)"
   ]
  }
 ],
 "metadata": {
  "kernelspec": {
   "display_name": "Python 3",
   "language": "python",
   "name": "python3"
  },
  "language_info": {
   "codemirror_mode": {
    "name": "ipython",
    "version": 3
   },
   "file_extension": ".py",
   "mimetype": "text/x-python",
   "name": "python",
   "nbconvert_exporter": "python",
   "pygments_lexer": "ipython3",
   "version": "3.6.8"
  }
 },
 "nbformat": 4,
 "nbformat_minor": 4
}
