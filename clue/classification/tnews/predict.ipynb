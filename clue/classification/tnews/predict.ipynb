{
 "cells": [
  {
   "cell_type": "markdown",
   "metadata": {},
   "source": [
    "# TNEWS"
   ]
  },
  {
   "cell_type": "markdown",
   "metadata": {},
   "source": [
    "短文本分类\n",
    "\n",
    "该数据集来自今日头条的新闻版块，共提取了15个类别的新闻，包括旅游，教育，金融，军事等。"
   ]
  },
  {
   "cell_type": "markdown",
   "metadata": {},
   "source": [
    "## 预测"
   ]
  },
  {
   "cell_type": "code",
   "execution_count": null,
   "metadata": {},
   "outputs": [],
   "source": [
    "import os\n",
    "import json"
   ]
  },
  {
   "cell_type": "code",
   "execution_count": null,
   "metadata": {},
   "outputs": [],
   "source": [
    "from pyclue.tf1.tasks.classification.multi_class.predict import Predictor"
   ]
  },
  {
   "cell_type": "code",
   "execution_count": null,
   "metadata": {},
   "outputs": [],
   "source": [
    "# 加载保存好的模型路径（train.ipynb中最后打印出的model_file_dict中的'pb_model_file'地址）\n",
    "pb_model_file = ''\n",
    "\n",
    "# 测试数据路径（应包含test.txt文件和id_2_label.json文件）\n",
    "data_dir = '/workspace/projects/PyCLUE_Corpus/classification/tnews'"
   ]
  },
  {
   "cell_type": "code",
   "execution_count": null,
   "metadata": {},
   "outputs": [],
   "source": [
    "def submit_tnews(predictor, data_dir, submit_dir):\n",
    "    test_data_file = os.path.join(data_dir, 'test.txt')\n",
    "    id_2_label_file = os.path.join(data_dir, 'id_2_label.json')\n",
    "    with open(id_2_label_file, 'r') as f:\n",
    "        id_2_label = json.load(f)\n",
    "    submit_results = []\n",
    "    ids = [item[0] for item in predictor.processor.read_file(file_path=test_data_file)]\n",
    "    labels = [item['prediction'] for item in predictor.predict_from_file(input_file=test_data_file)]\n",
    "    for index, label in zip(ids, labels):\n",
    "        submit_results.append('{\"id\": \"%s\", \"label\": \"%s\", \"label_desc\": \"%s\"}\\n' % (index, label, id_2_label[str(label)]))\n",
    "    save_path = os.path.join(submit_dir, 'tnews_predict.json')\n",
    "    with open(save_path, 'w') as f:\n",
    "        f.writelines(submit_results)\n",
    "    return save_path"
   ]
  },
  {
   "cell_type": "code",
   "execution_count": null,
   "metadata": {},
   "outputs": [],
   "source": [
    "# 初始化预测器\n",
    "predictor = Predictor(\n",
    "    model_file=pb_model_file)\n",
    "# 生成提交文件\n",
    "save_path = submit_tnews(\n",
    "    predictor=predictor, data_dir=data_dir, submit_dir=pb_model_file)\n",
    "print(save_path)"
   ]
  }
 ],
 "metadata": {
  "kernelspec": {
   "display_name": "Python 3",
   "language": "python",
   "name": "python3"
  },
  "language_info": {
   "codemirror_mode": {
    "name": "ipython",
    "version": 3
   },
   "file_extension": ".py",
   "mimetype": "text/x-python",
   "name": "python",
   "nbconvert_exporter": "python",
   "pygments_lexer": "ipython3",
   "version": "3.6.8"
  }
 },
 "nbformat": 4,
 "nbformat_minor": 4
}
